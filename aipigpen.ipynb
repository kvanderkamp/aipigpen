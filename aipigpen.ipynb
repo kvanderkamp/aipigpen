{
 "cells": [
  {
   "cell_type": "code",
   "execution_count": 1,
   "metadata": {
    "ExecuteTime": {
     "end_time": "2019-02-23T16:07:14.469181Z",
     "start_time": "2019-02-23T16:07:10.713684Z"
    }
   },
   "outputs": [
    {
     "name": "stdout",
     "output_type": "stream",
     "text": [
      "Requirement already up-to-date: pip in /home/kevin/anaconda3/lib/python3.7/site-packages (19.0.3)\n",
      "Requirement already satisfied: Pillow in /home/kevin/anaconda3/lib/python3.7/site-packages (5.2.0)\n"
     ]
    }
   ],
   "source": [
    "%matplotlib inline\n",
    "!pip install --upgrade pip"
   ]
  },
  {
   "cell_type": "code",
   "execution_count": 2,
   "metadata": {
    "ExecuteTime": {
     "end_time": "2019-02-23T16:07:14.502248Z",
     "start_time": "2019-02-23T16:07:14.472237Z"
    }
   },
   "outputs": [],
   "source": [
    "from pigpendata import PigPenData\n",
    "import cv2\n",
    "from matplotlib import pyplot as plt"
   ]
  },
  {
   "cell_type": "code",
   "execution_count": 3,
   "metadata": {
    "ExecuteTime": {
     "end_time": "2019-02-23T16:07:14.524490Z",
     "start_time": "2019-02-23T16:07:14.504373Z"
    }
   },
   "outputs": [],
   "source": [
    "len_train = 1\n",
    "len_test = 1\n",
    "len_validate = 1\n",
    "wonkiness = 8 # default=8\n",
    "\n",
    "ppd = PigPenData(len_train, len_test, len_validate, wonkiness)\n",
    "\n",
    "(train_x, train_y), (test_x, test_y), (validate_x, validate_y) = ppd.load_data()"
   ]
  },
  {
   "cell_type": "code",
   "execution_count": 4,
   "metadata": {
    "ExecuteTime": {
     "end_time": "2019-02-23T16:07:14.709688Z",
     "start_time": "2019-02-23T16:07:14.526694Z"
    }
   },
   "outputs": [
    {
     "name": "stdout",
     "output_type": "stream",
     "text": [
      "train_y[0]: J\n",
      "train_x[0]:\n"
     ]
    },
    {
     "data": {
      "image/png": "[encoded data removed]",
      "text/plain": [
       "<Figure size 432x288 with 1 Axes>"
      ]
     },
     "metadata": {
      "needs_background": "light"
     },
     "output_type": "display_data"
    }
   ],
   "source": [
    "print(\"train_y[0]:\", train_y[0])\n",
    "print(\"train_x[0]:\")\n",
    "plt.imshow(train_x[0])\n",
    "plt.show()"
   ]
  }
 ],
 "metadata": {
  "kernelspec": {
   "display_name": "Python 3",
   "language": "python",
   "name": "python3"
  },
  "language_info": {
   "codemirror_mode": {
    "name": "ipython",
    "version": 3
   },
   "file_extension": ".py",
   "mimetype": "text/x-python",
   "name": "python",
   "nbconvert_exporter": "python",
   "pygments_lexer": "ipython3",
   "version": "3.7.2"
  },
  "toc": {
   "base_numbering": 1,
   "nav_menu": {},
   "number_sections": true,
   "sideBar": true,
   "skip_h1_title": false,
   "title_cell": "Table of Contents",
   "title_sidebar": "Contents",
   "toc_cell": false,
   "toc_position": {},
   "toc_section_display": true,
   "toc_window_display": false
  }
 },
 "nbformat": 4,
 "nbformat_minor": 2
}
